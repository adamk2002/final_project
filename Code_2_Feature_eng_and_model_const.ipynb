{
 "cells": [
  {
   "cell_type": "markdown",
   "metadata": {},
   "source": [
    "\n",
    "### Notebook 2: Feature Engineering and Model Construction\n",
    "#### Introduction to Feature Engineering and Model Construction\n",
    "This notebook focuses on developing new features from the cleaned data and constructing a model to predict prices. The main steps include:\n",
    "\n",
    "- Developing new features\n",
    "\n",
    "- Normalizing data\n",
    "\n",
    "- Splitting data into training and validation sets\n",
    "\n",
    "- Training a model\n",
    "\n",
    "- Evaluating model performance\n",
    "\n",
    "### Part 1: Feature Engineering\n",
    "Develop New Features\n",
    "We develop a new feature price_per_night_per_review."
   ]
  },
  {
   "cell_type": "code",
   "execution_count": 2,
   "metadata": {},
   "outputs": [],
   "source": [
    "# Necessary imports\n",
    "\n",
    "import pandas as pd\n",
    "from sqlalchemy import create_engine\n",
    "import psycopg2\n",
    "from sklearn.preprocessing import LabelEncoder\n"
   ]
  },
  {
   "cell_type": "code",
   "execution_count": null,
   "metadata": {},
   "outputs": [],
   "source": [
    "# Datbase connection\n",
    "\n",
    "host = '127.0.0.1'\n",
    "db = 'project_airbnb'\n",
    "user = 'postgres'\n",
    "pw = 'your_pass'\n",
    "port = '5432'\n",
    "\n",
    "db_conn = create_engine(f\"postgresql://{user}:{pw}@{host}:{port}/{db}\")"
   ]
  },
  {
   "cell_type": "code",
   "execution_count": 4,
   "metadata": {},
   "outputs": [
    {
     "data": {
      "text/plain": [
       "297"
      ]
     },
     "execution_count": 4,
     "metadata": {},
     "output_type": "execute_result"
    }
   ],
   "source": [
    "# Load cleaned data\n",
    "df = pd.read_sql_table('cleaned_data', db_conn, schema='cleaned')\n",
    "\n",
    "# Develop new features\n",
    "df['price_per_night_per_review'] = df.apply(lambda row: row['price'] / row['number_of_reviews'] if row['number_of_reviews'] != 0 else 0, axis=1)\n",
    "\n",
    "# Handle missing values in price_per_night_per_review\n",
    "df['price_per_night_per_review'] = df['price_per_night_per_review'].fillna(df['price_per_night_per_review'].mean())\n",
    "\n",
    "# Normalize features\n",
    "from sklearn.preprocessing import StandardScaler\n",
    "scaler = StandardScaler()\n",
    "df[['price', 'minimum_nights', 'number_of_reviews', 'availability_365']] = scaler.fit_transform(df[['price', 'minimum_nights', 'number_of_reviews', 'availability_365']])\n",
    "\n",
    "# Store feature engineered data\n",
    "df.to_sql('feature_engineered_data', db_conn, schema='cleaned', if_exists='replace', index=False)\n"
   ]
  },
  {
   "cell_type": "markdown",
   "metadata": {},
   "source": [
    "Based on the analytical question, the 4 new features that I feel will support my analysis are price_per_night_per_review, 'minimum_nights', 'number_of_reviews' (the price might be higher for listings that have a high number of reviews and lower for listings with lower count of reviews), and 'availability_365' (how many days the listings is avalibale might also affect its price since it is related to the law of offer and demand)"
   ]
  },
  {
   "cell_type": "markdown",
   "metadata": {},
   "source": [
    "Part 2: Model Construction\n",
    "Split Data and Train Model\n",
    "now I will Utilize the 3-way split method to construct an optimal model. here I am using RndomforestRegressor as my oprimal model"
   ]
  },
  {
   "cell_type": "code",
   "execution_count": 5,
   "metadata": {},
   "outputs": [
    {
     "name": "stderr",
     "output_type": "stream",
     "text": [
      "C:\\Users\\dahal\\AppData\\Local\\Temp\\ipykernel_21512\\473140830.py:9: SettingWithCopyWarning: \n",
      "A value is trying to be set on a copy of a slice from a DataFrame.\n",
      "Try using .loc[row_indexer,col_indexer] = value instead\n",
      "\n",
      "See the caveats in the documentation: https://pandas.pydata.org/pandas-docs/stable/user_guide/indexing.html#returning-a-view-versus-a-copy\n",
      "  X['room_type'] = le_room_type.fit_transform(X['room_type'])\n",
      "C:\\Users\\dahal\\AppData\\Local\\Temp\\ipykernel_21512\\473140830.py:10: SettingWithCopyWarning: \n",
      "A value is trying to be set on a copy of a slice from a DataFrame.\n",
      "Try using .loc[row_indexer,col_indexer] = value instead\n",
      "\n",
      "See the caveats in the documentation: https://pandas.pydata.org/pandas-docs/stable/user_guide/indexing.html#returning-a-view-versus-a-copy\n",
      "  X['neighbourhood'] = le_neighbourhood.fit_transform(X['neighbourhood'])\n"
     ]
    },
    {
     "name": "stdout",
     "output_type": "stream",
     "text": [
      "Infinity values in X: 0\n",
      "Infinity values in y: 0\n",
      "Validation MSE: 0.7811781855054779\n"
     ]
    }
   ],
   "source": [
    "# Split data into training and validation sets\n",
    "from sklearn.model_selection import train_test_split\n",
    "X = df[['room_type', 'number_of_reviews', 'neighbourhood', 'minimum_nights', 'availability_365', 'price_per_night_per_review']]\n",
    "y = df['price']\n",
    "\n",
    "# Convert categorical variables to numerical\n",
    "le_room_type = LabelEncoder()\n",
    "le_neighbourhood = LabelEncoder()\n",
    "X['room_type'] = le_room_type.fit_transform(X['room_type'])\n",
    "X['neighbourhood'] = le_neighbourhood.fit_transform(X['neighbourhood'])\n",
    "\n",
    "# Ensure all numerical columns are floats\n",
    "X = X.astype(float)\n",
    "\n",
    "# Check for infinity values\n",
    "import numpy as np\n",
    "print(\"Infinity values in X:\", np.isinf(X).sum().sum())\n",
    "print(\"Infinity values in y:\", np.isinf(y).sum())\n",
    "\n",
    "# Replace infinity values with NaN and then fill with mean\n",
    "X = X.replace([np.inf, -np.inf], np.nan)\n",
    "X = X.fillna(X.mean())\n",
    "y = y.replace([np.inf, -np.inf], np.nan)\n",
    "y = y.fillna(y.mean())\n",
    "\n",
    "X_train, X_val, y_train, y_val = train_test_split(X.values, y.values, test_size=0.2, random_state=42)\n",
    "\n",
    "# Train a model\n",
    "from sklearn.ensemble import RandomForestRegressor\n",
    "model = RandomForestRegressor()\n",
    "\n",
    "try:\n",
    "    model.fit(X_train, y_train)\n",
    "except Exception as e:\n",
    "    print(f\"An error occurred: {e}\")\n",
    "\n",
    "# Evaluate model on validation set\n",
    "y_pred = model.predict(X_val)\n",
    "from sklearn.metrics import mean_squared_error\n",
    "mse = mean_squared_error(y_val, y_pred)\n",
    "print(f\"Validation MSE: {mse}\")\n",
    "\n",
    "# Save the model\n",
    "import joblib\n",
    "joblib.dump(model, 'optimal_model.joblib')\n",
    "\n",
    "# Store validation data for later use\n",
    "pd.DataFrame(X_val).to_csv('X_val.csv', index=False)\n",
    "pd.DataFrame(y_val).to_csv('y_val.csv', index=False)\n"
   ]
  },
  {
   "cell_type": "markdown",
   "metadata": {},
   "source": [
    "to see the tables I created on PgAdmin, please run code 1, 2, and 3"
   ]
  }
 ],
 "metadata": {
  "kernelspec": {
   "display_name": "Python 3",
   "language": "python",
   "name": "python3"
  },
  "language_info": {
   "codemirror_mode": {
    "name": "ipython",
    "version": 3
   },
   "file_extension": ".py",
   "mimetype": "text/x-python",
   "name": "python",
   "nbconvert_exporter": "python",
   "pygments_lexer": "ipython3",
   "version": "3.11.9"
  }
 },
 "nbformat": 4,
 "nbformat_minor": 2
}
