{
 "cells": [
  {
   "cell_type": "markdown",
   "metadata": {},
   "source": [
    "# Introduction to Data Preparation\n",
    "This notebook focuses on loading the Airbnb listings dataset, cleaning it, and preparing it for feature engineering. The main steps include:\n",
    "- Loading data into a Pandas DataFrame\n",
    "- Randomly sampling 100 rows for live data\n",
    "- Storing the remainder of the data in a PostgreSQL database\n",
    "- Removing irrelevant columns\n",
    "- Handling missing values\n",
    "- Converting categorical variables\n",
    "\n",
    "## Part 1: Data Loading and Sampling\n",
    "### Load Data\n",
    "First, we load the Airbnb listings dataset into a Pandas DataFrame.\n",
    "\n"
   ]
  },
  {
   "cell_type": "markdown",
   "metadata": {},
   "source": [
    "I am working on scenario1: You and a group of friends are considering purchasing a property in Chicago that you can use as an investment. You have heard from other people that they have made a lot of money by renting out either a room or an entire unit (apartment or house). Your friends ask you to analyze data so that they can understand how much you would charge per night based on the type of dwelling you were to purchase."
   ]
  },
  {
   "cell_type": "code",
   "execution_count": 1,
   "metadata": {},
   "outputs": [],
   "source": [
    "import pandas as pd\n",
    "import numpy as np"
   ]
  },
  {
   "cell_type": "markdown",
   "metadata": {},
   "source": [
    "Load data into a Pandas DataFrame\n"
   ]
  },
  {
   "cell_type": "code",
   "execution_count": 2,
   "metadata": {},
   "outputs": [],
   "source": [
    "df = pd.read_csv(\"listings.csv\")"
   ]
  },
  {
   "cell_type": "markdown",
   "metadata": {},
   "source": [
    "Loading data into a Pandas dataframe randomly selecting 100 rows of the data. Once selected, I saved these rows to new csv AND removed them from primary dataframe. "
   ]
  },
  {
   "cell_type": "code",
   "execution_count": 3,
   "metadata": {},
   "outputs": [],
   "source": [
    "sampled_df = df.sample(n=100, random_state=42)"
   ]
  },
  {
   "cell_type": "markdown",
   "metadata": {},
   "source": [
    "Save the sampled rows to a new CSV file"
   ]
  },
  {
   "cell_type": "code",
   "execution_count": 4,
   "metadata": {},
   "outputs": [],
   "source": [
    "sampled_df.to_csv(\"live_data.csv\", index=False)"
   ]
  },
  {
   "cell_type": "markdown",
   "metadata": {},
   "source": [
    "Remove these rows from the original DataFrame\n"
   ]
  },
  {
   "cell_type": "code",
   "execution_count": 5,
   "metadata": {},
   "outputs": [],
   "source": [
    "df = df.drop(sampled_df.index)"
   ]
  },
  {
   "cell_type": "markdown",
   "metadata": {},
   "source": [
    "\n",
    "## Part 2: PostgreSQL Database Connection and Data Storage\n",
    "### Connect to PostgreSQL Database\n",
    "Next, we connect to a PostgreSQL database and store the remainder of the data in the raw schema.\n",
    "\n"
   ]
  },
  {
   "cell_type": "code",
   "execution_count": 6,
   "metadata": {},
   "outputs": [],
   "source": [
    "from sqlalchemy import create_engine\n",
    "import psycopg2"
   ]
  },
  {
   "cell_type": "markdown",
   "metadata": {},
   "source": [
    "Define database connection parameters\n"
   ]
  },
  {
   "cell_type": "code",
   "execution_count": null,
   "metadata": {},
   "outputs": [],
   "source": [
    "host = '127.0.0.1'\n",
    "db = 'project_airbnb'\n",
    "user = 'postgres'\n",
    "pw = 'your_pass'\n",
    "port = '5432'"
   ]
  },
  {
   "cell_type": "markdown",
   "metadata": {},
   "source": [
    "Create a database connection engine\n"
   ]
  },
  {
   "cell_type": "code",
   "execution_count": 8,
   "metadata": {},
   "outputs": [],
   "source": [
    "db_conn = create_engine(f\"postgresql://{user}:{pw}@{host}:{port}/{db}\")"
   ]
  },
  {
   "cell_type": "markdown",
   "metadata": {},
   "source": [
    "Store the remainder of data in the raw schema\n"
   ]
  },
  {
   "cell_type": "code",
   "execution_count": 9,
   "metadata": {},
   "outputs": [
    {
     "data": {
      "text/plain": [
       "297"
      ]
     },
     "execution_count": 9,
     "metadata": {},
     "output_type": "execute_result"
    }
   ],
   "source": [
    "df.to_sql('remainder_data', db_conn, schema='raw', if_exists='replace', index=False)"
   ]
  },
  {
   "cell_type": "markdown",
   "metadata": {},
   "source": [
    "Data Definition_\n",
    "\n",
    "Field name and description:\n",
    "•\tid - The id of the airbnb\n",
    "•\tname - The name of the airbnb\n",
    "•\thost_id - The id of the host\n",
    "•\thost_name - The name of the host\n",
    "•\tneighborhood - Which area is the airbnb belongs to\n",
    "•\tlatitude - The latitude of the position\n",
    "•\tlongitude - The longitude of the position\n",
    "•\troom_type - Entire home/apt, Private room or Other\n",
    "•\tprice - The price of the apartment (per day)\n",
    "•\tminimum_nights - The least nights you need to book\n",
    "•\tnumber_of_reviews - The total number of the reviews on this dataset\n",
    "•\tlast_review - The last review time\n",
    "•\treviews_per_month - How many reviews the airbnb can receive per month\n",
    "•\tcalculated_host_listings_count - The total listing number of the host\n",
    "•\tavailability_365 - The available days\n",
    "\n",
    "Type of data (nominal, ordinal, discrete, continuous):\n",
    "o\tNominal: Categories without order (e.g., Neighborhood, name).\n",
    "o\tDiscrete: Countable numbers (e.g., price, minimum_nights).\n",
    "o\tContinuous: Measured values (e.g., reviews_per_month).\n",
    "\n",
    "\n",
    "\n",
    "Analytical Question_\n",
    "\n",
    "A well-formed question as a complete sentence:\n",
    "How do different factors (e.g., room_type, number_of_reviews, and neighbourhood) influence the listing’s price?\n",
    "\n",
    "Identify the target variable for your analysis:\n",
    "Price \n",
    "\n"
   ]
  },
  {
   "cell_type": "markdown",
   "metadata": {},
   "source": [
    "now let's cleanup and prepare the remaining data for machine learning: handling missing values or outliers, converting categorical variables, etc."
   ]
  },
  {
   "cell_type": "markdown",
   "metadata": {},
   "source": [
    "Remove irrelevant columns\n"
   ]
  },
  {
   "cell_type": "code",
   "execution_count": 10,
   "metadata": {},
   "outputs": [],
   "source": [
    "columns_to_drop = ['id', 'host_id', 'host_name', 'calculated_host_listings_count', 'last_review']\n",
    "df = df.drop(columns=columns_to_drop)"
   ]
  },
  {
   "cell_type": "markdown",
   "metadata": {},
   "source": [
    "Save the cleaned dataset\n"
   ]
  },
  {
   "cell_type": "code",
   "execution_count": 11,
   "metadata": {},
   "outputs": [],
   "source": [
    "df.to_csv(\"cleaned_listings.csv\", index=False)"
   ]
  },
  {
   "cell_type": "markdown",
   "metadata": {},
   "source": [
    "Check for missing values\n"
   ]
  },
  {
   "cell_type": "code",
   "execution_count": 12,
   "metadata": {},
   "outputs": [
    {
     "name": "stdout",
     "output_type": "stream",
     "text": [
      "name                      0\n",
      "neighbourhood_group    6297\n",
      "neighbourhood             0\n",
      "latitude                  0\n",
      "longitude                 0\n",
      "room_type                 0\n",
      "price                     0\n",
      "minimum_nights            0\n",
      "number_of_reviews         0\n",
      "reviews_per_month      1114\n",
      "availability_365          0\n",
      "dtype: int64\n"
     ]
    }
   ],
   "source": [
    "print(df.isnull().sum())"
   ]
  },
  {
   "cell_type": "markdown",
   "metadata": {},
   "source": [
    "Visualize outliers using IQR method for numerical columns\n"
   ]
  },
  {
   "cell_type": "code",
   "execution_count": 15,
   "metadata": {},
   "outputs": [
    {
     "name": "stdout",
     "output_type": "stream",
     "text": [
      "Outliers for price:\n",
      "                                                   name  neighbourhood_group  \\\n",
      "40             Family Style Home-walk to Aragon/Riviera                  NaN   \n",
      "62                      Chicago Lakefront Sailing Yacht                  NaN   \n",
      "64                  Drop-dead fab on the Lake  2bd/2bth                  NaN   \n",
      "88                   Italian style in elegant apartment                  NaN   \n",
      "123                     Lincoln Park Single Family Home                  NaN   \n",
      "...                                                 ...                  ...   \n",
      "6307  Gorgeous NEW 5 BDR/ 4BA in Logan Square w/Park...                  NaN   \n",
      "6378   Sundrenched Northeast Corner Unit in South Loop.                  NaN   \n",
      "6383        Luxury condo in Lincoln Park prime location                  NaN   \n",
      "6391                 Space for Professional Events Only                  NaN   \n",
      "6394  Two story Penthouse w private Rooftop & Great ...                  NaN   \n",
      "\n",
      "        neighbourhood   latitude  longitude        room_type  price  \\\n",
      "40             Uptown  41.969240 -87.658070  Entire home/apt    764   \n",
      "62    Near South Side  41.854670 -87.614170  Entire home/apt    495   \n",
      "64          Lake View  41.942840 -87.639190  Entire home/apt    490   \n",
      "88             Uptown  41.960460 -87.663460  Entire home/apt    299   \n",
      "123      Lincoln Park  41.929130 -87.669210  Entire home/apt    511   \n",
      "...               ...        ...        ...              ...    ...   \n",
      "6307         Avondale  41.937410 -87.695540  Entire home/apt    337   \n",
      "6378  Near South Side  41.859730 -87.623520  Entire home/apt    500   \n",
      "6383     Lincoln Park  41.923010 -87.645270  Entire home/apt    316   \n",
      "6391        West Town  41.907022 -87.667942  Entire home/apt    344   \n",
      "6394  Near South Side  41.855840 -87.624040  Entire home/apt    493   \n",
      "\n",
      "      minimum_nights  number_of_reviews  reviews_per_month  availability_365  \n",
      "40                 1                 22               0.21                 0  \n",
      "62                 2                 28               0.28               365  \n",
      "64                 1                 35               0.35               365  \n",
      "88               365                 16               0.17               365  \n",
      "123                2                 77               0.91               102  \n",
      "...              ...                ...                ...               ...  \n",
      "6307               3                  0                NaN               363  \n",
      "6378               2                  0                NaN                91  \n",
      "6383              30                  0                NaN               110  \n",
      "6391               1                  0                NaN               355  \n",
      "6394               2                  0                NaN               177  \n",
      "\n",
      "[549 rows x 11 columns]\n",
      "Outliers for minimum_nights:\n",
      "                                                   name  neighbourhood_group  \\\n",
      "8     *** Luxury in Chicago! 2BR/ 2Ba / Parking / BB...                  NaN   \n",
      "9     Private Apt 1 Block to Fullerton L Red Line - ...                  NaN   \n",
      "10    Top 2/1  Block to Fullerton L Red Line Deck & ...                  NaN   \n",
      "14    2 Bed MCM 1 Block to Fullerton Red line L & Ga...                  NaN   \n",
      "25                   1BR/1BA Suite in Chicago (3709-G1)                  NaN   \n",
      "...                                                 ...                  ...   \n",
      "6383        Luxury condo in Lincoln Park prime location                  NaN   \n",
      "6384          Entire apartment for you | 2BR in Chicago                  NaN   \n",
      "6385            Living room space with privacy curtains                  NaN   \n",
      "6388                     Cute room in downtown Boystown                  NaN   \n",
      "6395                             West Town Private Room                  NaN   \n",
      "\n",
      "     neighbourhood  latitude  longitude        room_type  price  \\\n",
      "8        West Town  41.89617  -87.66041  Entire home/apt     99   \n",
      "9     Lincoln Park  41.92679  -87.65521  Entire home/apt    112   \n",
      "10    Lincoln Park  41.92693  -87.65753  Entire home/apt     75   \n",
      "14    Lincoln Park  41.92673  -87.65731  Entire home/apt     95   \n",
      "25     Irving Park  41.96012  -87.72158  Entire home/apt     79   \n",
      "...            ...       ...        ...              ...    ...   \n",
      "6383  Lincoln Park  41.92301  -87.64527  Entire home/apt    316   \n",
      "6384  Lincoln Park  41.92819  -87.65250  Entire home/apt    230   \n",
      "6385   Irving Park  41.93914  -87.72993      Shared room     20   \n",
      "6388     Lake View  41.94436  -87.64812     Private room     85   \n",
      "6395     West Town  41.89005  -87.66668     Private room     53   \n",
      "\n",
      "      minimum_nights  number_of_reviews  reviews_per_month  availability_365  \n",
      "8                 91                  9               0.11               365  \n",
      "9                 32                 37               0.29               180  \n",
      "10                32                 47               0.38                62  \n",
      "14                32                 52               0.47               206  \n",
      "25                28                 33               0.30               346  \n",
      "...              ...                ...                ...               ...  \n",
      "6383              30                  0                NaN               110  \n",
      "6384              33                  0                NaN               314  \n",
      "6385               7                  0                NaN               365  \n",
      "6388              29                  0                NaN               365  \n",
      "6395              32                  0                NaN                83  \n",
      "\n",
      "[1183 rows x 11 columns]\n",
      "Outliers for number_of_reviews:\n",
      "                                                   name  neighbourhood_group  \\\n",
      "0     Hyde Park - Walk to UChicago, 10 min to McCormick                  NaN   \n",
      "1     394 Great Reviews. 127 y/o House. 40 yds to tr...                  NaN   \n",
      "2                   Tiny Studio Apartment 94 Walk Score                  NaN   \n",
      "12                    Andersonville - Perfect location!                  NaN   \n",
      "13                  Central guestroom! Walk everywhere!                  NaN   \n",
      "...                                                 ...                  ...   \n",
      "3218  Restoring Chicago speakeasy of the 1920s. Room 4A                  NaN   \n",
      "3385       Lovely Andersonville Apt with Ideal Location                  NaN   \n",
      "3411  Restoring Chicago Speakeasy from the 1920s Roo...                  NaN   \n",
      "3414                                    The Hobbit Hole                  NaN   \n",
      "4129          Michigan Avenue Boutique Hotel, Queen Bed                  NaN   \n",
      "\n",
      "        neighbourhood  latitude  longitude        room_type  price  \\\n",
      "0           Hyde Park  41.78790  -87.58780     Private room     60   \n",
      "1      South Lawndale  41.85495  -87.69696  Entire home/apt    105   \n",
      "2           West Town  41.90289  -87.68182  Entire home/apt     60   \n",
      "12             Uptown  41.97385  -87.66539     Private room     77   \n",
      "13    Near North Side  41.89377  -87.63465     Private room     75   \n",
      "...               ...       ...        ...              ...    ...   \n",
      "3218  Near North Side  41.89062  -87.63094     Private room    100   \n",
      "3385           Uptown  41.97226  -87.66441  Entire home/apt     75   \n",
      "3411  Near North Side  41.88906  -87.63074     Private room     99   \n",
      "3414   Lincoln Square  41.97509  -87.69546  Entire home/apt     50   \n",
      "4129             Loop  41.87635  -87.62427     Private room    104   \n",
      "\n",
      "      minimum_nights  number_of_reviews  reviews_per_month  availability_365  \n",
      "0                  2                178               2.56               353  \n",
      "1                  2                395               2.81               155  \n",
      "2                  2                384               2.81               321  \n",
      "12                 3                250               2.02               223  \n",
      "13                 2                500               4.13                 0  \n",
      "...              ...                ...                ...               ...  \n",
      "3218               1                155               6.97               341  \n",
      "3385               2                174               8.97               167  \n",
      "3411               1                163               8.67               342  \n",
      "3414               1                140               7.11               324  \n",
      "4129               1                334              32.43               347  \n",
      "\n",
      "[533 rows x 11 columns]\n",
      "Outliers for availability_365:\n",
      "Empty DataFrame\n",
      "Columns: [name, neighbourhood_group, neighbourhood, latitude, longitude, room_type, price, minimum_nights, number_of_reviews, reviews_per_month, availability_365]\n",
      "Index: []\n"
     ]
    }
   ],
   "source": [
    "numerical_cols = ['price', 'minimum_nights', 'number_of_reviews', 'availability_365']\n",
    "for col in numerical_cols:\n",
    "    Q1 = df[col].quantile(0.25)\n",
    "    Q3 = df[col].quantile(0.75)\n",
    "    IQR = Q3 - Q1\n",
    "    print(f\"Outliers for {col}:\")\n",
    "    print(df[(df[col] < (Q1 - 1.5 * IQR)) | (df[col] > (Q3 + 1.5 * IQR))])"
   ]
  },
  {
   "cell_type": "markdown",
   "metadata": {},
   "source": [
    "Convert categorical variables\n"
   ]
  },
  {
   "cell_type": "code",
   "execution_count": 16,
   "metadata": {},
   "outputs": [],
   "source": [
    "from sklearn.preprocessing import LabelEncoder\n",
    "le = LabelEncoder()\n",
    "df['room_type'] = le.fit_transform(df['room_type'])\n",
    "df['neighbourhood'] = le.fit_transform(df['neighbourhood'])"
   ]
  },
  {
   "cell_type": "markdown",
   "metadata": {},
   "source": [
    "Store cleaned data in the cleaned schema\n"
   ]
  },
  {
   "cell_type": "code",
   "execution_count": 17,
   "metadata": {},
   "outputs": [
    {
     "data": {
      "text/plain": [
       "297"
      ]
     },
     "execution_count": 17,
     "metadata": {},
     "output_type": "execute_result"
    }
   ],
   "source": [
    "df.to_sql('cleaned_data', db_conn, schema='cleaned', if_exists='replace', index=False)"
   ]
  }
 ],
 "metadata": {
  "kernelspec": {
   "display_name": "Python 3",
   "language": "python",
   "name": "python3"
  },
  "language_info": {
   "codemirror_mode": {
    "name": "ipython",
    "version": 3
   },
   "file_extension": ".py",
   "mimetype": "text/x-python",
   "name": "python",
   "nbconvert_exporter": "python",
   "pygments_lexer": "ipython3",
   "version": "3.11.9"
  }
 },
 "nbformat": 4,
 "nbformat_minor": 2
}
